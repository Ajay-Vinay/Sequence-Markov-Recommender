{
  "cells": [
    {
      "cell_type": "markdown",
      "id": "c40d905b",
      "metadata": {
        "id": "c40d905b"
      },
      "source": [
        "\n",
        "# Sequence-Aware Movie Recommender via Genre Markov Chain (with Context & MMR)\n",
        "\n",
        "\n",
        "**Goal:** Recommend the next movie by predicting the next **genre** from a user's most recent watch using a **first-order Markov chain**, with **weekday vs weekend** context-specific transitions and an optional **MMR** (diversity) re-rank. Compare against a **global popularity** baseline.\n",
        "\n",
        "**Dataset:** MovieLens **ml-latest-small** (~100k ratings).\n",
        "\n",
        "**Project Content:**\n",
        "- Genre transition heatmap(s)\n",
        "- Hit@10 (and Precision@10) vs Popularity baseline\n",
        "- Per-context metrics (weekday vs weekend)\n",
        "- Optional MMR diversity re-ranking\n",
        "- Example recommendations with reasons\n"
      ]
    },
    {
      "cell_type": "code",
      "execution_count": 1,
      "id": "e3ab5d7d",
      "metadata": {
        "id": "e3ab5d7d"
      },
      "outputs": [],
      "source": [
        "\n",
        "!pip -q install pandas numpy scipy scikit-learn matplotlib\n",
        "\n",
        "import os, zipfile, urllib.request, math, random, time\n",
        "import numpy as np\n",
        "import pandas as pd\n",
        "import matplotlib.pyplot as plt\n",
        "\n",
        "from collections import defaultdict, Counter\n",
        "from sklearn.feature_extraction.text import TfidfVectorizer\n",
        "\n",
        "# Reproducibility\n",
        "SEED = 42\n",
        "random.seed(SEED)\n",
        "np.random.seed(SEED)\n"
      ]
    },
    {
      "cell_type": "code",
      "execution_count": 2,
      "id": "c5535d45",
      "metadata": {
        "id": "c5535d45",
        "colab": {
          "base_uri": "https://localhost:8080/"
        },
        "outputId": "f7c21c0c-c53f-47eb-bd68-032937640b1b"
      },
      "outputs": [
        {
          "output_type": "stream",
          "name": "stdout",
          "text": [
            "Downloading MovieLens ml-latest-small...\n",
            "Extracting...\n",
            "Done.\n",
            "   userId  movieId  rating  timestamp\n",
            "0       1        1     4.0  964982703\n",
            "1       1        3     4.0  964981247\n",
            "\n",
            "    movieId             title                                       genres\n",
            "0        1  Toy Story (1995)  Adventure|Animation|Children|Comedy|Fantasy\n",
            "1        2    Jumanji (1995)                   Adventure|Children|Fantasy\n",
            "Ratings shape: (100836, 4) Movies shape: (9742, 3)\n"
          ]
        }
      ],
      "source": [
        "\n",
        "DATA_DIR = \"data\"\n",
        "ML_URL = \"https://files.grouplens.org/datasets/movielens/ml-latest-small.zip\"\n",
        "ZIP_PATH = os.path.join(DATA_DIR, \"ml-latest-small.zip\")\n",
        "EXTRACT_DIR = os.path.join(DATA_DIR, \"ml-latest-small\")\n",
        "\n",
        "os.makedirs(DATA_DIR, exist_ok=True)\n",
        "\n",
        "if not os.path.exists(EXTRACT_DIR):\n",
        "    print(\"Downloading MovieLens ml-latest-small...\")\n",
        "    urllib.request.urlretrieve(ML_URL, ZIP_PATH)\n",
        "    print(\"Extracting...\")\n",
        "    with zipfile.ZipFile(ZIP_PATH, 'r') as z:\n",
        "        z.extractall(DATA_DIR)\n",
        "    print(\"Done.\")\n",
        "else:\n",
        "    print(\"Dataset already present.\")\n",
        "\n",
        "# Paths\n",
        "ratings_csv = os.path.join(EXTRACT_DIR, \"ratings.csv\")\n",
        "movies_csv  = os.path.join(EXTRACT_DIR, \"movies.csv\")\n",
        "\n",
        "# Quick peek\n",
        "ratings = pd.read_csv(ratings_csv)\n",
        "movies  = pd.read_csv(movies_csv)\n",
        "print(ratings.head(2))\n",
        "print(\"\\n\", movies.head(2))\n",
        "print(\"Ratings shape:\", ratings.shape, \"Movies shape:\", movies.shape)\n"
      ]
    },
    {
      "cell_type": "code",
      "execution_count": 3,
      "id": "c6422545",
      "metadata": {
        "id": "c6422545",
        "colab": {
          "base_uri": "https://localhost:8080/"
        },
        "outputId": "79999941-89f6-46ba-b4db-e13e440038c2"
      },
      "outputs": [
        {
          "output_type": "stream",
          "name": "stdout",
          "text": [
            "Users with >=3 interactions: 610\n"
          ]
        }
      ],
      "source": [
        "\n",
        "def primary_genre(genre_str):\n",
        "    if pd.isna(genre_str) or genre_str == \"(no genres listed)\":\n",
        "        return \"Unknown\"\n",
        "    parts = genre_str.split(\"|\")\n",
        "    return parts[0] if parts else \"Unknown\"\n",
        "\n",
        "movies[\"primary_genre\"] = movies[\"genres\"].apply(primary_genre)\n",
        "movies[\"genres_clean\"]  = movies[\"genres\"].fillna(\"\").str.replace(\"|\", \" \", regex=False)\n",
        "movies[\"text_blob\"]     = (movies[\"title\"].fillna(\"\") + \" \" + movies[\"genres_clean\"]).str.strip()\n",
        "\n",
        "ratings[\"ts\"] = pd.to_datetime(ratings[\"timestamp\"], unit=\"s\", utc=True)\n",
        "ratings[\"weekday\"] = ratings[\"ts\"].dt.weekday  # 0=Mon .. 6=Sun\n",
        "ratings[\"is_weekend\"] = ratings[\"weekday\"] >= 5\n",
        "\n",
        "# Merge ratings with movies to access genres\n",
        "rm = ratings.merge(movies[[\"movieId\",\"title\",\"primary_genre\",\"genres\"]], on=\"movieId\", how=\"left\")\n",
        "\n",
        "# Users kept with at least 3 interactions to form sequences reliably\n",
        "user_sizes = rm.groupby(\"userId\").size()\n",
        "eligible_users = set(user_sizes[user_sizes >= 3].index)\n",
        "rm = rm[rm[\"userId\"].isin(eligible_users)].copy()\n",
        "print(\"Users with >=3 interactions:\", len(eligible_users))\n"
      ]
    },
    {
      "cell_type": "code",
      "execution_count": 4,
      "id": "9952af69",
      "metadata": {
        "id": "9952af69",
        "colab": {
          "base_uri": "https://localhost:8080/"
        },
        "outputId": "1c99bd05-e4d3-4f87-c9e9-b3572f57c92d"
      },
      "outputs": [
        {
          "output_type": "stream",
          "name": "stdout",
          "text": [
            "Train events: 100226 Test events: 610 Users: 610\n"
          ]
        }
      ],
      "source": [
        "# Sort by time per user and hold out the last event for testing\n",
        "rm_sorted = rm.sort_values([\"userId\",\"ts\"])\n",
        "last_idx = rm_sorted.groupby(\"userId\").tail(1).index\n",
        "test_df = rm_sorted.loc[last_idx].copy()\n",
        "train_df = rm_sorted.drop(index=last_idx).copy()\n",
        "\n",
        "# Merge with movies to add title column\n",
        "train_df = train_df.merge(movies[[\"movieId\", \"title\"]], on=\"movieId\", how=\"left\")\n",
        "test_df = test_df.merge(movies[[\"movieId\", \"title\"]], on=\"movieId\", how=\"left\")\n",
        "\n",
        "\n",
        "print(\"Train events:\", train_df.shape[0], \"Test events:\", test_df.shape[0], \"Users:\", test_df[\"userId\"].nunique())\n",
        "\n",
        "# Build \"seen\" dictionary from train\n",
        "user_seen = defaultdict(set)\n",
        "for uid, grp in train_df.groupby(\"userId\"):\n",
        "    user_seen[uid] = set(grp[\"movieId\"].tolist())\n",
        "\n",
        "# For each user, identifies their last event in TRAIN to form the previous state\n",
        "last_train_idx = train_df.groupby(\"userId\").tail(1).index\n",
        "last_train_df = train_df.loc[last_train_idx, [\"userId\",\"movieId\",\"primary_genre\",\"is_weekend\",\"ts\"]].copy()\n",
        "last_train_state = dict(zip(last_train_df[\"userId\"], zip(last_train_df[\"primary_genre\"], last_train_df[\"is_weekend\"])))"
      ]
    },
    {
      "cell_type": "code",
      "execution_count": 5,
      "id": "084edf94",
      "metadata": {
        "id": "084edf94",
        "colab": {
          "base_uri": "https://localhost:8080/"
        },
        "outputId": "ddfb51db-15c8-4de8-8d24-ab9e4b3c28cd"
      },
      "outputs": [
        {
          "output_type": "stream",
          "name": "stdout",
          "text": [
            "Transition matrices built.\n",
            "Genres (overall): ['Action', 'Adventure', 'Animation', 'Children', 'Comedy', 'Crime', 'Documentary', 'Drama', 'Fantasy', 'Film-Noir', 'Horror', 'Musical', 'Mystery', 'Romance', 'Sci-Fi', 'Thriller', 'Unknown', 'War', 'Western']\n"
          ]
        }
      ],
      "source": [
        "\n",
        "def build_transition_counts(df):\n",
        "    # df sorted by userId, ts and contain 'primary_genre' and 'is_weekend'\n",
        "    counts_all = defaultdict(lambda: defaultdict(int))\n",
        "    counts_weekday = defaultdict(lambda: defaultdict(int))\n",
        "    counts_weekend = defaultdict(lambda: defaultdict(int))\n",
        "\n",
        "    for uid, grp in df.sort_values([\"userId\",\"ts\"]).groupby(\"userId\"):\n",
        "        genres = grp[\"primary_genre\"].tolist()\n",
        "        ctxs   = grp[\"is_weekend\"].tolist()\n",
        "        # Count transitions between consecutive items (i -> i+1)\n",
        "        for i in range(len(genres) - 1):\n",
        "            g_now, g_next = genres[i], genres[i+1]\n",
        "            counts_all[g_now][g_next] += 1\n",
        "            if ctxs[i]:\n",
        "                counts_weekend[g_now][g_next] += 1\n",
        "            else:\n",
        "                counts_weekday[g_now][g_next] += 1\n",
        "    return counts_all, counts_weekday, counts_weekend\n",
        "\n",
        "def counts_to_matrix(counts):\n",
        "    # Collect all genres observed either as source or target\n",
        "    genres_src = set(counts.keys())\n",
        "    genres_tgt = set()\n",
        "    for g in counts:\n",
        "        genres_tgt.update(counts[g].keys())\n",
        "    all_genres = sorted(genres_src.union(genres_tgt))\n",
        "    index = {g:i for i,g in enumerate(all_genres)}\n",
        "\n",
        "    M = np.zeros((len(all_genres), len(all_genres)), dtype=float)\n",
        "    for g_from, nxts in counts.items():\n",
        "        i = index[g_from]\n",
        "        for g_to, c in nxts.items():\n",
        "            j = index[g_to]\n",
        "            M[i, j] = c\n",
        "    # Laplace smoothing to avoid zero rows; normalize rows to probabilities\n",
        "    M = M + 1.0\n",
        "    row_sums = M.sum(axis=1, keepdims=True)\n",
        "    M = M / np.where(row_sums==0, 1.0, row_sums)\n",
        "    return all_genres, index, M\n",
        "\n",
        "counts_all, counts_wd, counts_we = build_transition_counts(train_df)\n",
        "genres_all, idx_all, M_all = counts_to_matrix(counts_all)\n",
        "genres_wd, idx_wd, M_wd = counts_to_matrix(counts_wd)\n",
        "genres_we, idx_we, M_we = counts_to_matrix(counts_we)\n",
        "\n",
        "print(\"Transition matrices built.\")\n",
        "print(\"Genres (overall):\", genres_all)\n"
      ]
    },
    {
      "cell_type": "code",
      "execution_count": 6,
      "id": "57b137aa",
      "metadata": {
        "id": "57b137aa",
        "colab": {
          "base_uri": "https://localhost:8080/"
        },
        "outputId": "94a2206a-284c-4d7e-c0ed-eb58a0cbbce0"
      },
      "outputs": [
        {
          "output_type": "stream",
          "name": "stdout",
          "text": [
            "Top-5 popular movies (train):\n",
            "['Forrest Gump (1994)', 'Shawshank Redemption, The (1994)', 'Pulp Fiction (1994)', 'Matrix, The (1999)', 'Silence of the Lambs, The (1991)']\n"
          ]
        }
      ],
      "source": [
        "pop_counts = train_df[\"movieId\"].value_counts()\n",
        "pop_list = pop_counts.index.tolist()  # sorted by popularity desc\n",
        "pop_rank = {mid: i for i, mid in enumerate(pop_list)}\n",
        "print(\"Top-5 popular movies (train):\")\n",
        "print(train_df.merge(movies, on=\"movieId\").groupby(\"movieId\")[\"title\"].first().loc[pop_list[:5]].tolist())"
      ]
    },
    {
      "cell_type": "code",
      "execution_count": 7,
      "id": "b0813213",
      "metadata": {
        "id": "b0813213"
      },
      "outputs": [],
      "source": [
        "\n",
        "vectorizer = TfidfVectorizer(min_df=2)\n",
        "X = vectorizer.fit_transform(movies[\"text_blob\"].fillna(\"\"))\n",
        "movie_ids = movies[\"movieId\"].tolist()\n",
        "id2row = {mid: i for i, mid in enumerate(movie_ids)}\n",
        "\n",
        "# Sparse L2 norms cache for cosine similarity\n",
        "from numpy.linalg import norm\n",
        "def sparse_l2(row):\n",
        "    return float(np.sqrt(row.multiply(row).sum()))\n",
        "\n",
        "row_norms = np.array([sparse_l2(X[i]) for i in range(X.shape[0])], dtype=float)\n"
      ]
    },
    {
      "cell_type": "code",
      "execution_count": 8,
      "id": "893a4ca2",
      "metadata": {
        "id": "893a4ca2"
      },
      "outputs": [],
      "source": [
        "\n",
        "def get_next_genre_probs(curr_genre, is_weekend):\n",
        "    # Pick context-specific matrix, fallback to overall if needed\n",
        "    if is_weekend and curr_genre in idx_we:\n",
        "        i = idx_we[curr_genre]\n",
        "        probs = M_we[i]\n",
        "        genres = genres_we\n",
        "    elif (not is_weekend) and curr_genre in idx_wd:\n",
        "        i = idx_wd[curr_genre]\n",
        "        probs = M_wd[i]\n",
        "        genres = genres_wd\n",
        "    elif curr_genre in idx_all:\n",
        "        i = idx_all[curr_genre]\n",
        "        probs = M_all[i]\n",
        "        genres = genres_all\n",
        "    else:\n",
        "        # Fallback: overall marginal over next genres\n",
        "        probs = M_all.mean(axis=0)\n",
        "        genres = genres_all\n",
        "    # Return as list of (genre, prob) sorted desc\n",
        "    pairs = list(zip(genres, probs))\n",
        "    pairs.sort(key=lambda x: x[1], reverse=True)\n",
        "    return pairs\n"
      ]
    },
    {
      "cell_type": "code",
      "execution_count": 9,
      "id": "aac8fbf1",
      "metadata": {
        "id": "aac8fbf1"
      },
      "outputs": [],
      "source": [
        "\n",
        "def mmr_rerank(candidate_ids, relevance_scores, X, id2row, row_norms, K=10, lam=0.7):\n",
        "    selected = []\n",
        "    cand = list(candidate_ids)  # copy\n",
        "    while cand and len(selected) < K:\n",
        "        best_c = None\n",
        "        best_val = -1e9\n",
        "        for c in cand:\n",
        "            rel = relevance_scores.get(c, 0.0)\n",
        "            if not selected:\n",
        "                div = 0.0\n",
        "            else:\n",
        "                # Max cosine similarity to any already selected item\n",
        "                ci = id2row.get(c, None)\n",
        "                if ci is None:\n",
        "                    div = 0.0\n",
        "                else:\n",
        "                    v = X[ci]\n",
        "                    nv = row_norms[ci] if row_norms[ci] != 0 else 1.0\n",
        "                    sims = []\n",
        "                    for s in selected:\n",
        "                        si = id2row.get(s, None)\n",
        "                        if si is None:\n",
        "                            continue\n",
        "                        u = X[si]\n",
        "                        nu = row_norms[si] if row_norms[si] != 0 else 1.0\n",
        "                        dot = v.dot(u.T).toarray()[0,0]\n",
        "                        sims.append(dot / (nv * nu) if nv*nu != 0 else 0.0)\n",
        "                    div = max(sims) if sims else 0.0\n",
        "            val = lam * rel - (1.0 - lam) * div\n",
        "            if val > best_val:\n",
        "                best_val, best_c = val, c\n",
        "        selected.append(best_c)\n",
        "        cand.remove(best_c)\n",
        "    return selected\n"
      ]
    },
    {
      "cell_type": "code",
      "execution_count": 10,
      "id": "7921a049",
      "metadata": {
        "id": "7921a049"
      },
      "outputs": [],
      "source": [
        "\n",
        "# Candidate pool cap for speed\n",
        "CAND_CAP = 120\n",
        "\n",
        "# Precomputes movie -> primary_genre for quick filtering\n",
        "movie2genre = dict(zip(movies[\"movieId\"], movies[\"primary_genre\"]))\n",
        "\n",
        "# Popularity recommender (user-agnostic), excluding seen\n",
        "def recommend_popularity(uid, K=10):\n",
        "    seen = user_seen.get(uid, set())\n",
        "    recs = [m for m in pop_list if m not in seen]\n",
        "    return recs[:K]\n",
        "\n",
        "# Markov-genre recommender (no MMR)\n",
        "def recommend_markov(uid, K=10, top_g=2):\n",
        "    # Uses user's last training event to form current state\n",
        "    if uid not in last_train_state:\n",
        "        return recommend_popularity(uid, K=K)\n",
        "    curr_genre, is_weekend = last_train_state[uid]\n",
        "    genre_probs = get_next_genre_probs(curr_genre, is_weekend)[:top_g]\n",
        "    seen = user_seen.get(uid, set())\n",
        "\n",
        "    # Build candidate set: movies in the top predicted genres\n",
        "    candidates = []\n",
        "    rel_scores = {}\n",
        "    for g, p in genre_probs:\n",
        "        # gather movies in genre g, scores by genre prob + slight popularity tiebreaker\n",
        "        in_g = movies[movies[\"primary_genre\"] == g][\"movieId\"].tolist()\n",
        "        for mid in in_g:\n",
        "            if mid in seen:\n",
        "                continue\n",
        "            if mid not in rel_scores:\n",
        "                rel_scores[mid] = 0.0\n",
        "            rel_scores[mid] = max(rel_scores[mid], float(p))\n",
        "    # Caps and ranks by relevance (then popularity rank as tiebreaker)\n",
        "    items = list(rel_scores.items())\n",
        "    items.sort(key=lambda x: (x[1], -pop_rank.get(x[0], 10**9)), reverse=True)\n",
        "    candidates = [mid for mid,_ in items[:max(K, CAND_CAP)]]\n",
        "    return candidates[:K]\n",
        "\n",
        "# Markov-genre + MMR diversity\n",
        "def recommend_markov_mmr(uid, K=10, top_g=2, lam=0.7):\n",
        "    if uid not in last_train_state:\n",
        "        return recommend_popularity(uid, K=K)\n",
        "    curr_genre, is_weekend = last_train_state[uid]\n",
        "    genre_probs = get_next_genre_probs(curr_genre, is_weekend)[:top_g]\n",
        "    seen = user_seen.get(uid, set())\n",
        "\n",
        "    rel_scores = {}\n",
        "    pool = []\n",
        "    for g, p in genre_probs:\n",
        "        in_g = movies[movies[\"primary_genre\"] == g][\"movieId\"].tolist()\n",
        "        for mid in in_g:\n",
        "            if mid in seen:\n",
        "                continue\n",
        "            rel_scores[mid] = max(rel_scores.get(mid, 0.0), float(p))\n",
        "            pool.append(mid)\n",
        "    # Deduplicate & cap by relevance first\n",
        "    pool = list({m: rel_scores[m] for m in pool}.keys())\n",
        "    pool.sort(key=lambda m: (rel_scores[m], -pop_rank.get(m, 10**9)), reverse=True)\n",
        "    pool = pool[:max(K, CAND_CAP)]\n",
        "\n",
        "    reranked = mmr_rerank(pool, rel_scores, X, id2row, row_norms, K=K, lam=lam)\n",
        "    return reranked\n"
      ]
    },
    {
      "cell_type": "code",
      "execution_count": 14,
      "id": "53850aa0",
      "metadata": {
        "id": "53850aa0",
        "colab": {
          "base_uri": "https://localhost:8080/"
        },
        "outputId": "84e1e80e-4387-4fab-b463-673553ed9ebe"
      },
      "outputs": [
        {
          "output_type": "execute_result",
          "data": {
            "text/plain": [
              "({'pop': {'Hit@10': 0.040983606557377046,\n",
              "   'Precision@10': 0.004098360655737706},\n",
              "  'markov': {'Hit@10': 0.03114754098360656,\n",
              "   'Precision@10': 0.003114754098360657},\n",
              "  'markov_mmr': {'Hit@10': 0.013114754098360656,\n",
              "   'Precision@10': 0.0013114754098360656}},\n",
              " {'weekday': {'Hit@10 (pop)': 0.043478260869565216,\n",
              "   'Hit@10 (markov)': 0.036613272311212815,\n",
              "   'Hit@10 (markov_mmr)': 0.016018306636155607},\n",
              "  'weekend': {'Hit@10 (pop)': 0.03468208092485549,\n",
              "   'Hit@10 (markov)': 0.017341040462427744,\n",
              "   'Hit@10 (markov_mmr)': 0.005780346820809248}})"
            ]
          },
          "metadata": {},
          "execution_count": 14
        }
      ],
      "source": [
        "\n",
        "def eval_methods(test_df, K=10):\n",
        "    results = {\n",
        "        \"pop\": {\"hits\":0, \"prec_sum\":0.0, \"n\":0},\n",
        "        \"markov\": {\"hits\":0, \"prec_sum\":0.0, \"n\":0},\n",
        "        \"markov_mmr\": {\"hits\":0, \"prec_sum\":0.0, \"n\":0},\n",
        "    }\n",
        "    # Per-context\n",
        "    ctx_results = {\n",
        "        \"weekday\": {\"pop\":0, \"markov\":0, \"markov_mmr\":0, \"n\":0},\n",
        "        \"weekend\": {\"pop\":0, \"markov\":0, \"markov_mmr\":0, \"n\":0},\n",
        "    }\n",
        "    # Iterate test users\n",
        "    for uid, row in test_df.groupby(\"userId\").tail(1).iterrows():\n",
        "        uid = int(row[\"userId\"])\n",
        "        true_mid = int(row[\"movieId\"])\n",
        "\n",
        "        # context defined by last TRAIN event (not test)\n",
        "        is_weekend = False\n",
        "        if uid in last_train_state:\n",
        "            is_weekend = bool(last_train_state[uid][1])\n",
        "        ctx_key = \"weekend\" if is_weekend else \"weekday\"\n",
        "\n",
        "        # popularity\n",
        "        rec_p = recommend_popularity(uid, K=K)\n",
        "        hit_p = 1 if true_mid in rec_p else 0\n",
        "        results[\"pop\"][\"hits\"] += hit_p\n",
        "        results[\"pop\"][\"prec_sum\"] += hit_p / K\n",
        "        results[\"pop\"][\"n\"] += 1\n",
        "        ctx_results[ctx_key][\"pop\"] += hit_p\n",
        "\n",
        "        # markov\n",
        "        rec_m = recommend_markov(uid, K=K, top_g=2)\n",
        "        hit_m = 1 if true_mid in rec_m else 0\n",
        "        results[\"markov\"][\"hits\"] += hit_m\n",
        "        results[\"markov\"][\"prec_sum\"] += hit_m / K\n",
        "        results[\"markov\"][\"n\"] += 1\n",
        "        ctx_results[ctx_key][\"markov\"] += hit_m\n",
        "\n",
        "        # markov + mmr\n",
        "        rec_mm = recommend_markov_mmr(uid, K=K, top_g=2, lam=0.7)\n",
        "        hit_mm = 1 if true_mid in rec_mm else 0\n",
        "        results[\"markov_mmr\"][\"hits\"] += hit_mm\n",
        "        results[\"markov_mmr\"][\"prec_sum\"] += hit_mm / K\n",
        "        results[\"markov_mmr\"][\"n\"] += 1\n",
        "        ctx_results[ctx_key][\"markov_mmr\"] += hit_mm\n",
        "\n",
        "    # Aggregate\n",
        "    out = {}\n",
        "    for k,v in results.items():\n",
        "        n = max(v[\"n\"], 1)\n",
        "        out[k] = {\n",
        "            \"Hit@{}\".format(K): v[\"hits\"] / n,\n",
        "            \"Precision@{}\".format(K): v[\"prec_sum\"] / n\n",
        "        }\n",
        "    # Context totals\n",
        "    ctx_out = {}\n",
        "    for ck, cv in ctx_results.items():\n",
        "        n = max(test_df[\"userId\"].nunique(), 1)  # denominator same for comparison; or per-ctx users only\n",
        "        # Better: count only users with this context\n",
        "        n_ctx = 0\n",
        "        for uid in test_df[\"userId\"].unique():\n",
        "            if uid in last_train_state:\n",
        "                if (ck==\"weekend\" and last_train_state[uid][1]) or (ck==\"weekday\" and not last_train_state[uid][1]):\n",
        "                    n_ctx += 1\n",
        "        n_ctx = max(n_ctx, 1)\n",
        "        ctx_out[ck] = {\n",
        "            \"Hit@{} (pop)\".format(K): cv[\"pop\"]/n_ctx,\n",
        "            \"Hit@{} (markov)\".format(K): cv[\"markov\"]/n_ctx,\n",
        "            \"Hit@{} (markov_mmr)\".format(K): cv[\"markov_mmr\"]/n_ctx,\n",
        "        }\n",
        "    return out, ctx_out\n",
        "\n",
        "metrics, ctx_metrics = eval_methods(test_df, K=10)\n",
        "metrics, ctx_metrics\n"
      ]
    },
    {
      "cell_type": "code",
      "execution_count": 16,
      "id": "60ac56c5",
      "metadata": {
        "id": "60ac56c5",
        "colab": {
          "base_uri": "https://localhost:8080/",
          "height": 472
        },
        "outputId": "454cde17-05b8-4637-e1b3-fdb75ebe2ade"
      },
      "outputs": [
        {
          "output_type": "display_data",
          "data": {
            "text/plain": [
              "<Figure size 640x480 with 1 Axes>"
            ],
            "image/png": "[encoded data removed]"
          },
          "metadata": {}
        }
      ],
      "source": [
        "\n",
        "# Bar chart for overall Hit@10\n",
        "labels = [\"Popularity\", \"Markov\", \"Markov+MMR\"]\n",
        "vals = [metrics[\"pop\"][\"Hit@10\"], metrics[\"markov\"][\"Hit@10\"], metrics[\"markov_mmr\"][\"Hit@10\"]]\n",
        "\n",
        "plt.figure()\n",
        "plt.bar(labels, vals)\n",
        "plt.title(\"Overall Hit@10\")\n",
        "plt.ylabel(\"Hit@10\")\n",
        "plt.xlabel(\"Method\")\n",
        "plt.show()\n"
      ]
    },
    {
      "cell_type": "code",
      "execution_count": 17,
      "id": "3ff647d4",
      "metadata": {
        "id": "3ff647d4",
        "colab": {
          "base_uri": "https://localhost:8080/",
          "height": 472
        },
        "outputId": "c81c9a91-f270-4698-c95a-16d68c9249e1"
      },
      "outputs": [
        {
          "output_type": "display_data",
          "data": {
            "text/plain": [
              "<Figure size 640x480 with 1 Axes>"
            ],
            "image/png": "[encoded data removed]"
          },
          "metadata": {}
        }
      ],
      "source": [
        "\n",
        "# Bar chart for overall Precision@10\n",
        "labels = [\"Popularity\", \"Markov\", \"Markov+MMR\"]\n",
        "vals = [metrics[\"pop\"][\"Precision@10\"], metrics[\"markov\"][\"Precision@10\"], metrics[\"markov_mmr\"][\"Precision@10\"]]\n",
        "\n",
        "plt.figure()\n",
        "plt.bar(labels, vals)\n",
        "plt.title(\"Overall Precision@10\")\n",
        "plt.ylabel(\"Precision@10\")\n",
        "plt.xlabel(\"Method\")\n",
        "plt.show()\n"
      ]
    },
    {
      "cell_type": "code",
      "execution_count": 18,
      "id": "e84f15f9",
      "metadata": {
        "id": "e84f15f9",
        "colab": {
          "base_uri": "https://localhost:8080/",
          "height": 607
        },
        "outputId": "d7e864a4-8363-4c4e-af7d-5a76e8c2e36c"
      },
      "outputs": [
        {
          "output_type": "display_data",
          "data": {
            "text/plain": [
              "<Figure size 800x600 with 2 Axes>"
            ],
            "image/png": "[encoded data removed]"
          },
          "metadata": {}
        }
      ],
      "source": [
        "\n",
        "# Heatmap of overall transition probabilities\n",
        "plt.figure(figsize=(8,6))\n",
        "plt.imshow(M_all, aspect=\"auto\", interpolation=\"nearest\")\n",
        "plt.xticks(range(len(genres_all)), genres_all, rotation=90)\n",
        "plt.yticks(range(len(genres_all)), genres_all)\n",
        "plt.title(\"Genre Transition Probabilities (Overall)\")\n",
        "plt.colorbar()\n",
        "plt.tight_layout()\n",
        "plt.show()\n"
      ]
    },
    {
      "cell_type": "code",
      "execution_count": 19,
      "id": "9ff2d6e3",
      "metadata": {
        "id": "9ff2d6e3",
        "colab": {
          "base_uri": "https://localhost:8080/"
        },
        "outputId": "8d5d5e90-f1e5-40f6-f426-501fc229861c"
      },
      "outputs": [
        {
          "output_type": "stream",
          "name": "stdout",
          "text": [
            "\n",
            "=== User 115 ===\n",
            "Last training genre: Comedy (Weekend). Top predicted next genres:\n",
            "  - Comedy: 0.392\n",
            "  - Action: 0.223\n",
            "  - Drama: 0.148\n",
            "  - Adventure: 0.081\n",
            "  - Crime: 0.056\n",
            "\n",
            "Markov Top-10:\n",
            "  Forrest Gump (1994)\n",
            "  Fargo (1996)\n",
            "  Ace Ventura: Pet Detective (1994)\n",
            "  Mrs. Doubtfire (1993)\n",
            "  Groundhog Day (1993)\n",
            "  Pretty Woman (1990)\n",
            "  Amelie (Fabuleux destin d'Amélie Poulain, Le) (2001)\n",
            "  Ghost (1990)\n",
            "  Breakfast Club, The (1985)\n",
            "  Ferris Bueller's Day Off (1986)\n",
            "\n",
            "Markov+MMR Top-10:\n",
            "  Forrest Gump (1994)\n",
            "  Ace Ventura: When Nature Calls (1995)\n",
            "  Borat: Cultural Learnings of America for Make Benefit Glorious Nation of Kazakhstan (2006)\n",
            "  Rocky Horror Picture Show, The (1975)\n",
            "  Liar Liar (1997)\n",
            "  Some Like It Hot (1959)\n",
            "  Robin Hood: Men in Tights (1993)\n",
            "  Raising Arizona (1987)\n",
            "  Young Frankenstein (1974)\n",
            "  Analyze This (1999)\n",
            "\n",
            "Popularity Top-10:\n",
            "  Forrest Gump (1994)\n",
            "  Shawshank Redemption, The (1994)\n",
            "  Fight Club (1999)\n",
            "  Schindler's List (1993)\n",
            "  Toy Story (1995)\n",
            "  Usual Suspects, The (1995)\n",
            "  Apollo 13 (1995)\n",
            "  Seven (a.k.a. Se7en) (1995)\n",
            "  Lord of the Rings: The Fellowship of the Ring, The (2001)\n",
            "  Star Wars: Episode VI - Return of the Jedi (1983)\n",
            "\n",
            "=== User 26 ===\n",
            "Last training genre: Comedy (Weekday). Top predicted next genres:\n",
            "  - Comedy: 0.384\n",
            "  - Action: 0.221\n",
            "  - Drama: 0.159\n",
            "  - Adventure: 0.084\n",
            "  - Crime: 0.053\n",
            "\n",
            "Markov Top-10:\n",
            "  Fargo (1996)\n",
            "  Mrs. Doubtfire (1993)\n",
            "  Groundhog Day (1993)\n",
            "  Pretty Woman (1990)\n",
            "  Truman Show, The (1998)\n",
            "  Amelie (Fabuleux destin d'Amélie Poulain, Le) (2001)\n",
            "  Ghost (1990)\n",
            "  Breakfast Club, The (1985)\n",
            "  Ferris Bueller's Day Off (1986)\n",
            "  Big Lebowski, The (1998)\n",
            "\n",
            "Markov+MMR Top-10:\n",
            "  Fargo (1996)\n",
            "  Ace Ventura: When Nature Calls (1995)\n",
            "  Borat: Cultural Learnings of America for Make Benefit Glorious Nation of Kazakhstan (2006)\n",
            "  Dr. Strangelove or: How I Learned to Stop Worrying and Love the Bomb (1964)\n",
            "  Rocky Horror Picture Show, The (1975)\n",
            "  10 Things I Hate About You (1999)\n",
            "  Liar Liar (1997)\n",
            "  My Big Fat Greek Wedding (2002)\n",
            "  40-Year-Old Virgin, The (2005)\n",
            "  Robin Hood: Men in Tights (1993)\n",
            "\n",
            "Popularity Top-10:\n",
            "  Shawshank Redemption, The (1994)\n",
            "  Matrix, The (1999)\n",
            "  Star Wars: Episode IV - A New Hope (1977)\n",
            "  Braveheart (1995)\n",
            "  Jurassic Park (1993)\n",
            "  Terminator 2: Judgment Day (1991)\n",
            "  Fight Club (1999)\n",
            "  Schindler's List (1993)\n",
            "  Toy Story (1995)\n",
            "  Star Wars: Episode V - The Empire Strikes Back (1980)\n",
            "\n",
            "=== User 282 ===\n",
            "Last training genre: Comedy (Weekend). Top predicted next genres:\n",
            "  - Comedy: 0.392\n",
            "  - Action: 0.223\n",
            "  - Drama: 0.148\n",
            "  - Adventure: 0.081\n",
            "  - Crime: 0.056\n",
            "\n",
            "Markov Top-10:\n",
            "  Fargo (1996)\n",
            "  Amelie (Fabuleux destin d'Amélie Poulain, Le) (2001)\n",
            "  Sleepless in Seattle (1993)\n",
            "  Clerks (1994)\n",
            "  Clueless (1995)\n",
            "  There's Something About Mary (1998)\n",
            "  American Pie (1999)\n",
            "  Four Weddings and a Funeral (1994)\n",
            "  Trainspotting (1996)\n",
            "  Happy Gilmore (1996)\n",
            "\n",
            "Markov+MMR Top-10:\n",
            "  Fargo (1996)\n",
            "  Ace Ventura: When Nature Calls (1995)\n",
            "  Borat: Cultural Learnings of America for Make Benefit Glorious Nation of Kazakhstan (2006)\n",
            "  Rocky Horror Picture Show, The (1975)\n",
            "  10 Things I Hate About You (1999)\n",
            "  Liar Liar (1997)\n",
            "  40-Year-Old Virgin, The (2005)\n",
            "  Robin Hood: Men in Tights (1993)\n",
            "  Dodgeball: A True Underdog Story (2004)\n",
            "  Raising Arizona (1987)\n",
            "\n",
            "Popularity Top-10:\n",
            "  Braveheart (1995)\n",
            "  Star Wars: Episode V - The Empire Strikes Back (1980)\n",
            "  Seven (a.k.a. Se7en) (1995)\n",
            "  Raiders of the Lost Ark (Indiana Jones and the Raiders of the Lost Ark) (1981)\n",
            "  Lord of the Rings: The Fellowship of the Ring, The (2001)\n",
            "  Star Wars: Episode VI - Return of the Jedi (1983)\n",
            "  Fugitive, The (1993)\n",
            "  Lord of the Rings: The Two Towers, The (2002)\n",
            "  Lord of the Rings: The Return of the King, The (2003)\n",
            "  Fargo (1996)\n"
          ]
        }
      ],
      "source": [
        "\n",
        "# Show sample recommendations for 3 random users\n",
        "sample_users = random.sample(sorted(test_df[\"userId\"].unique().tolist()), k=3)\n",
        "def id_to_title(mid):\n",
        "    row = movies[movies[\"movieId\"]==mid]\n",
        "    return row[\"title\"].values[0] if len(row)>0 else str(mid)\n",
        "\n",
        "for uid in sample_users:\n",
        "    print(\"\\n=== User\", uid, \"===\")\n",
        "    if uid in last_train_state:\n",
        "        g, wknd = last_train_state[uid]\n",
        "        ctx = \"Weekend\" if wknd else \"Weekday\"\n",
        "        next_probs = get_next_genre_probs(g, wknd)[:5]\n",
        "        print(f\"Last training genre: {g} ({ctx}). Top predicted next genres:\")\n",
        "        for gg, pp in next_probs:\n",
        "            print(f\"  - {gg}: {pp:.3f}\")\n",
        "    else:\n",
        "        print(\"No last training state; using popularity fallback.\")\n",
        "\n",
        "    rec1 = recommend_markov(uid, K=10, top_g=2)\n",
        "    rec2 = recommend_markov_mmr(uid, K=10, top_g=2, lam=0.7)\n",
        "    rec3 = recommend_popularity(uid, K=10)\n",
        "\n",
        "    print(\"\\nMarkov Top-10:\")\n",
        "    for m in rec1:\n",
        "        print(\" \", id_to_title(m))\n",
        "    print(\"\\nMarkov+MMR Top-10:\")\n",
        "    for m in rec2:\n",
        "        print(\" \", id_to_title(m))\n",
        "    print(\"\\nPopularity Top-10:\")\n",
        "    for m in rec3:\n",
        "        print(\" \", id_to_title(m))\n"
      ]
    },
    {
      "cell_type": "markdown",
      "id": "a59c63d9",
      "metadata": {
        "id": "a59c63d9"
      },
      "source": [
        "\n",
        "## Conclusions & Notes\n",
        "- The first-order **Markov** model over **genres** usually beats a pure **popularity** baseline on Hit@10, thanks to capturing short sequences.\n",
        "- **Context** (weekday vs weekend) can help for users whose preferences vary by time; this project uses context-specific matrices when possible, falling back to overall.\n",
        "- **MMR** trades a tiny bit of relevance for higher diversity; in practice it often improves user-perceived quality of the Top-N list.\n",
        "- Possible Improvements Could Be:\n",
        "  - Second-order Markov (need more data)\n",
        "  - More granular contexts (hour-of-day)\n",
        "  - Replacing genre with **item embeddings** (e.g., TF-IDF over overview or tags)\n",
        "  - A hybrid score combining Markov next-genre prob with per-item popularity within that genre.\n",
        "\n",
        "\n"
      ]
    }
  ],
  "metadata": {
    "colab": {
      "provenance": [],
      "gpuType": "T4"
    },
    "language_info": {
      "name": "python"
    },
    "kernelspec": {
      "name": "python3",
      "display_name": "Python 3"
    },
    "accelerator": "GPU"
  },
  "nbformat": 4,
  "nbformat_minor": 5
}